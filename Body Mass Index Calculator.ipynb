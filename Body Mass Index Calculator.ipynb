{
 "cells": [
  {
   "cell_type": "code",
   "execution_count": 4,
   "metadata": {},
   "outputs": [
    {
     "name": "stdin",
     "output_type": "stream",
     "text": [
      "What is your height in metres? 1.76\n",
      "What is your weight in Kg? 60\n"
     ]
    },
    {
     "name": "stdout",
     "output_type": "stream",
     "text": [
      "Your Body Mass Index is: 19.369834710743802\n",
      "You are Healthy\n"
     ]
    }
   ],
   "source": [
    "Height = float(input(\"What is your height in metres?\"))\n",
    "Weight = float(input(\"What is your weight in Kg?\"))\n",
    "BMI = (Weight/Height)/Height\n",
    "print(\"Your Body Mass Index is:\", BMI)\n",
    "\n",
    "if BMI > 0:\n",
    "    if BMI <= 16:\n",
    "        print(\"You are critically underweight\")\n",
    "    elif BMI <= 18.5:\n",
    "        print(\"You are underweight\")\n",
    "    elif BMI <= 25:\n",
    "        print(\"You are Healthy\")\n",
    "    elif BMI <= 30:\n",
    "        print(\"You are overweight\")\n",
    "    else:\n",
    "        print(\"You are critically overweight\")\n",
    "else:\n",
    "    print(\"Invalid details\")"
   ]
  },
  {
   "cell_type": "markdown",
   "metadata": {},
   "source": [
    "BMI is a measure of relative weight based on an individual’s mass and height. Today, Body Mass Index is commonly used to classify people as underweight, overweight, and even with obesity. Also, it is adopted by countries to promote healthy eating.\n",
    "\n",
    "BMI can be considered as an alternative for direct measurements of body fat. Besides, BMI is an inexpensive and easy-to-perform method of screening for weight classes that may cause health problems."
   ]
  }
 ],
 "metadata": {
  "kernelspec": {
   "display_name": "Python 3 (ipykernel)",
   "language": "python",
   "name": "python3"
  },
  "language_info": {
   "codemirror_mode": {
    "name": "ipython",
    "version": 3
   },
   "file_extension": ".py",
   "mimetype": "text/x-python",
   "name": "python",
   "nbconvert_exporter": "python",
   "pygments_lexer": "ipython3",
   "version": "3.10.4"
  }
 },
 "nbformat": 4,
 "nbformat_minor": 4
}
